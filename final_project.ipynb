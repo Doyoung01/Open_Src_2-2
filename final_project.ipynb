{
 "cells": [
  {
   "cell_type": "code",
   "execution_count": 3,
   "metadata": {},
   "outputs": [],
   "source": [
    "# 라이브러리 불러오기\n",
    "import pandas as pd\n",
    "import matplotlib.pyplot as plt\n",
    "\n",
    "# matplotlib 한글 폰트 오류 문제 해결\n",
    "from matplotlib import font_manager, rc\n",
    "font_path = \"./malgun.ttf\"   #폰트파일의 위치\n",
    "font_name = font_manager.FontProperties(fname=font_path).get_name()\n",
    "rc('font', family=font_name)"
   ]
  },
  {
   "cell_type": "code",
   "execution_count": 4,
   "metadata": {},
   "outputs": [],
   "source": [
    "# CSV 데이터를 데이터프레임으로 변환\n",
    "df = pd.read_csv('Dementia_2022.csv', header=0, encoding='cp949')"
   ]
  },
  {
   "cell_type": "code",
   "execution_count": 5,
   "metadata": {},
   "outputs": [],
   "source": [
    "# groupby를 사용한 데이터 그룹화\n",
    "# (1) 근 3년간의 연령에 따른 전국 치매 유형별 환자 유병률\n",
    "df1 = df.loc[:, ['시점', '행정구역(시도)별', '성별', '연령별', '치매환자유병률', \n",
    "                 '알츠하이머 환자유병률', '혈관성치매 환자유병률', '기타 환자유병률', '경도인지장애 환자유병률']]\n",
    "\n",
    "# 특정 시군구가 아닌 전국 행태를 살펴보기 위해 필터링\n",
    "mask = (df1['행정구역(시도)별'] == '전국') & (df1['성별'] == '전체')\n",
    "df1 = df1[mask]\n",
    "df1.drop(['행정구역(시도)별', '성별'], axis=1, inplace=True)\n",
    "\n",
    "# 그룹화\n",
    "year_age_group = df1.groupby(['시점', '연령별'])"
   ]
  },
  {
   "cell_type": "code",
   "execution_count": 6,
   "metadata": {},
   "outputs": [
    {
     "name": "stdout",
     "output_type": "stream",
     "text": [
      "          치매환자유병률 알츠하이머 환자유병률 혈관성치매 환자유병률  기타 환자유병률 경도인지장애 환자유병률\n",
      "연령별                                                             \n",
      "60~64세       0.61         0.0        0.61       0.0    14.943333\n",
      "65~69세       1.39    1.296667         0.0      0.09    17.906667\n",
      "70~74세       3.86         3.7        0.09      0.06        21.61\n",
      "75~79세      11.81    4.916667    2.316667  4.566667    14.816667\n",
      "80~84세  20.926667       16.33    0.773333  3.813333         47.8\n",
      "85세이상   38.836667       33.85        3.25      1.72        22.31\n",
      "60세이상    7.236667        5.35    0.796667  1.083333        20.27\n",
      "65세이상   10.323333    7.843333    0.883333      1.59    22.746667\n"
     ]
    }
   ],
   "source": [
    "# [mean] 근 3년간의 연령 및 유형별 평균 유병률(성별 구분 없음)\n",
    "# 각 연도별로 같은 나이 범위의 행들을 합쳐 데이터프레임으로 반환하는 함수\n",
    "def turn_mean(df, age):\n",
    "    age_20 = year_age_group.get_group((2020, age))\n",
    "    age_21 = year_age_group.get_group((2021, age))\n",
    "    age_22 = year_age_group.get_group((2022, age))\n",
    "    \n",
    "    concat_m = pd.concat([age_20, age_21, age_22])\n",
    "        \n",
    "    return concat_m\n",
    "\n",
    "# 나이별 평균을 저장할 데이터프레임 생성\n",
    "df_means1 = pd.DataFrame(columns=df1.drop(['시점'], axis=1).columns)\n",
    "\n",
    "# 나이별로 평균 계산 후 df_means1에 추가\n",
    "for age in df1['연령별'].unique():\n",
    "    tmp = turn_mean(df1, age)\n",
    "    \n",
    "    tmp.drop('시점', axis=1, inplace=True)\n",
    "    age_mean = tmp.mean(numeric_only=True).to_frame()\n",
    "    age_mean.loc['연령별'] = age\n",
    "    age_mean = age_mean.T\n",
    "    \n",
    "    df_means1 = pd.concat([df_means1, age_mean])\n",
    "\n",
    "df_means1.set_index('연령별', inplace=True)\n",
    "print(df_means1) # 연령 및 치매 유형별 평균 출력(전체에 대한 치매환자유병률 포함)"
   ]
  },
  {
   "cell_type": "code",
   "execution_count": 7,
   "metadata": {},
   "outputs": [],
   "source": [
    "# (2) 근 3년간의 성별에 따른 전국 치매 유병률\n",
    "df2 = df.loc[:, ['시점', '행정구역(시도)별', '성별', '연령별', '치매환자유병률', \n",
    "                 '알츠하이머 환자유병률', '혈관성치매 환자유병률', '기타 환자유병률', '경도인지장애 환자유병률']]\n",
    "\n",
    "# 특정 시군구가 아닌 전국 행태를 살펴보기 위해 필터링, 남여 성별 기준이므로 전체 통계도 제외\n",
    "mask = (df2['행정구역(시도)별'] == '전국') & (df2['성별'] != '전체')\n",
    "df2 = df2[mask]\n",
    "df2.drop(['행정구역(시도)별'], axis=1, inplace=True)\n",
    "\n",
    "# 공통이 아닌 특정 행(60/65 이상, 남계, 여계에 따른 통계) 삭제\n",
    "mask = (df2['연령별'] == '60~64세') | (df2['연령별'] == '65~69세') | \\\n",
    "    (df2['연령별'] == '70~74세') | (df2['연령별'] == '75~79세') | \\\n",
    "        (df2['연령별'] == '80~85세') | (df2['연령별'] == '85세이상')\n",
    "\n",
    "df2 = df2.loc[mask]\n",
    "\n",
    "# 그룹화\n",
    "year_sex_group = df2.groupby(['시점', '성별'])"
   ]
  },
  {
   "cell_type": "code",
   "execution_count": 8,
   "metadata": {},
   "outputs": [
    {
     "name": "stdout",
     "output_type": "stream",
     "text": [
      "    치매환자유병률  알츠하이머 환자유병률  혈관성치매 환자유병률  기타 환자유병률  경도인지장애 환자유병률\n",
      "성별                                                           \n",
      "남    14.172    11.459333     2.274667  0.434000     17.417333\n",
      "여    10.192     7.736667     0.644000  1.806667     18.560000\n"
     ]
    }
   ],
   "source": [
    "# [mean] 근 3년간의 성별에 따른 전국 평균 치매 유병률\n",
    "# 각 연도별로 같은 나이 범위의 행들을 합쳐 데이터프레임으로 반환하는 함수\n",
    "def turn_mean(df, sex):\n",
    "    age_20 = year_sex_group.get_group((2020, sex))\n",
    "    age_21 = year_sex_group.get_group((2021, sex))\n",
    "    age_22 = year_sex_group.get_group((2022, sex))\n",
    "    \n",
    "    concat_m = pd.concat([age_20, age_21, age_22])\n",
    "        \n",
    "    return concat_m\n",
    "\n",
    "# 성별에 따른 평균을 저장할 데이터프레임 생성\n",
    "df_means2 = pd.DataFrame(columns=df2.drop(['시점', '연령별'], axis=1).columns)\n",
    "\n",
    "for sex in df2['성별'].unique():\n",
    "    sex_mean = turn_mean(df2, sex).drop('시점', axis=1)\n",
    "    sex_mean = sex_mean.mean(numeric_only=True).to_frame()\n",
    "    sex_mean = sex_mean.T\n",
    "    sex_mean['성별'] = sex\n",
    "    \n",
    "    df_means2 = pd.concat([df_means2, sex_mean])\n",
    "\n",
    "df_means2.set_index('성별', inplace=True)\n",
    "print(df_means2) # 성별에 따른 평균 출력(전체에 대한 치매환자유병률 포함)"
   ]
  },
  {
   "cell_type": "code",
   "execution_count": 40,
   "metadata": {},
   "outputs": [
    {
     "name": "stdout",
     "output_type": "stream",
     "text": [
      "       연령별  치매환자유병률  알츠하이머 환자유병률  혈관성치매 환자유병률  기타 환자유병률  경도인지장애 환자유병률\n",
      "성별                                                                   \n",
      "남   60~64세     1.13     0.000000     1.130000  0.000000     25.780000\n",
      "여   60~64세     0.11     0.000000     0.110000  0.000000      4.386667\n",
      "남   65~69세     1.85     1.656667     0.000000  0.190000      9.456667\n",
      "여   65~69세     0.96     0.956667     0.000000  0.000000     25.790000\n",
      "남   70~74세     4.66     4.450000     0.200000  0.000000     25.130000\n",
      "여   70~74세     3.16     3.046667     0.000000  0.116667     18.516667\n",
      "남   75~79세     9.23     2.970000     4.276667  1.980000      6.840000\n",
      "여   75~79세    13.76     6.390000     0.830000  6.530000     20.856667\n",
      "남    85세이상    53.99    48.220000     5.766667  0.000000     19.880000\n",
      "여    85세이상    32.97    28.290000     2.280000  2.386667     23.250000\n"
     ]
    }
   ],
   "source": [
    "# [mean] 근 3년간의 성별 및 나이에 따른 전국 평균 치매 유병률\n",
    "# 그룹화\n",
    "year_sex_age_group = df2.groupby(['시점', '성별', '연령별'])\n",
    "\n",
    "# 각 연도별로 같은 나이 범위의 행들을 합쳐 데이터프레임으로 반환하는 함수\n",
    "def turn_mean(df, sex, age):\n",
    "    \n",
    "    age_20 = year_sex_age_group.get_group((2020, sex, age))\n",
    "    age_21 = year_sex_age_group.get_group((2021, sex, age))\n",
    "    age_22 = year_sex_age_group.get_group((2022, sex, age))\n",
    "    \n",
    "    concat_m = pd.concat([age_20, age_21, age_22])\n",
    "        \n",
    "    return concat_m\n",
    "\n",
    "# 성별에 따른 평균을 저장할 데이터프레임 생성\n",
    "df_means3 = pd.DataFrame(columns=df2.drop(['시점'], axis=1).columns)\n",
    "\n",
    "for age in df2['연령별'].unique():\n",
    "    for sex in df2['성별'].unique():\n",
    "        sex_age_mean = turn_mean(df2, sex, age).drop('시점', axis=1)\n",
    "        sex_age_mean = sex_age_mean.mean(numeric_only=True).to_frame()\n",
    "        sex_age_mean = sex_age_mean.T\n",
    "        sex_age_mean['성별'] = sex\n",
    "        sex_age_mean['연령별'] = age\n",
    "        \n",
    "        df_means3 = pd.concat([df_means3, sex_age_mean])\n",
    "\n",
    "df_means3.set_index('성별', inplace=True)\n",
    "print(df_means3) # 성별에 따른 평균 출력(전체에 대한 치매환자유병률 포함)"
   ]
  },
  {
   "cell_type": "code",
   "execution_count": 10,
   "metadata": {},
   "outputs": [
    {
     "data": {
      "image/png": "[encoded data removed]",
      "text/plain": [
       "<Figure size 720x360 with 1 Axes>"
      ]
     },
     "metadata": {
      "needs_background": "light"
     },
     "output_type": "display_data"
    }
   ],
   "source": [
    "# matplotlib을 활용한 그래프 그리기\n",
    "# (1) 연령에 따른 전국 치매 유형별 환자 유병률\n",
    "plt.figure(figsize=(10, 5))\n",
    "plt.plot(df_means1.index, df_means1.values, marker='o')\n",
    "\n",
    "plt.title('연령에 따른 전국 치매 유형별 환자 유병률')\n",
    "plt.xlabel('연령별')\n",
    "plt.ylabel('유병률')\n",
    "\n",
    "plt.legend(labels=df_means1.columns)\n",
    "\n",
    "plt.show()"
   ]
  },
  {
   "cell_type": "code",
   "execution_count": 11,
   "metadata": {},
   "outputs": [
    {
     "data": {
      "image/png": "[encoded data removed]",
      "text/plain": [
       "<Figure size 720x360 with 1 Axes>"
      ]
     },
     "metadata": {
      "needs_background": "light"
     },
     "output_type": "display_data"
    }
   ],
   "source": [
    "# (2) 성별에 따른 전국 치매 유형별 환자 유병률\n",
    "import numpy as np\n",
    "\n",
    "# matplotlib 한글 폰트 오류 문제 해결\n",
    "from matplotlib import font_manager, rc\n",
    "font_path = \"./malgun.ttf\"   #폰트파일의 위치\n",
    "font_name = font_manager.FontProperties(fname=font_path).get_name()\n",
    "rc('font', family=font_name)\n",
    "\n",
    "index = np.array(range(len(df_means3.연령별.unique())))\n",
    "width = 0.3\n",
    "female_data = df_means2.iloc[1]\n",
    "male_data = df_means2.iloc[0]\n",
    "\n",
    "plt.figure(figsize=(10, 5))\n",
    "\n",
    "b1 = plt.bar(index, female_data, width)\n",
    "index = index + width\n",
    "b2 = plt.bar(index, male_data, width)\n",
    "\n",
    "plt.title('성별에 따른 전국 치매 유형별 환자 유병률')\n",
    "plt.xlabel('치매 유형')\n",
    "plt.ylabel('유병률')\n",
    "\n",
    "plt.legend([b1, b2], ['여성', '남성'])\n",
    "plt.xticks(index, df_means2.columns)\n",
    "\n",
    "plt.show()"
   ]
  },
  {
   "cell_type": "code",
   "execution_count": 97,
   "metadata": {},
   "outputs": [],
   "source": [
    "from sklearn.linear_model import LogisticRegression\n",
    "from sklearn.preprocessing import StandardScaler\n",
    "from sklearn.model_selection import train_test_split"
   ]
  },
  {
   "cell_type": "code",
   "execution_count": 86,
   "metadata": {},
   "outputs": [],
   "source": [
    "# CSV 데이터를 데이터프레임으로 변환\n",
    "df_patient = pd.read_csv('.\\COVID-19 Dataset\\Covid Data.csv', header=0, encoding='cp949')"
   ]
  },
  {
   "cell_type": "code",
   "execution_count": null,
   "metadata": {},
   "outputs": [
    {
     "name": "stdout",
     "output_type": "stream",
     "text": [
      "   성별  연령별  치매환자유병률  알츠하이머 환자유병률  혈관성치매 환자유병률  기타 환자유병률  경도인지장애 환자유병률\n",
      "0   1   60     1.13     0.000000     1.130000  0.000000     25.780000\n",
      "1   0   60     0.11     0.000000     0.110000  0.000000      4.386667\n",
      "2   1   65     1.85     1.656667     0.000000  0.190000      9.456667\n",
      "3   0   65     0.96     0.956667     0.000000  0.000000     25.790000\n",
      "4   1   70     4.66     4.450000     0.200000  0.000000     25.130000\n",
      "5   0   70     3.16     3.046667     0.000000  0.116667     18.516667\n",
      "6   1   75     9.23     2.970000     4.276667  1.980000      6.840000\n",
      "7   0   75    13.76     6.390000     0.830000  6.530000     20.856667\n",
      "8   1   85    53.99    48.220000     5.766667  0.000000     19.880000\n",
      "9   0   85    32.97    28.290000     2.280000  2.386667     23.250000\n"
     ]
    }
   ],
   "source": [
    "# 성별과 연령을 입력했을 시 입력된 해당 성별과 나잇대의 치매 발병률을 예측해주는 모델\n",
    "# input; 여성(0), 남성(1)\n",
    "\n",
    "# 데이터 전처리\n",
    "df_ml = df_means3.reset_index()\n",
    "df_ml['성별'] = df_ml['성별'].map({'여': 0, '남': 1})\n",
    "df_ml['연령별'] = df_ml['연령별'].map({'60~64세': 60, '65~69세': 65, '70~74세': 70, '75~79세': 75, '85세이상': 85})\n",
    "df_ml = df_ml.drop(['알츠하이머 환자유병률', '혈관성치매 환자유병률', '기타 환자유병률', '경도인지장애 환자유병률'], axis=1)\n",
    "print(df_ml)"
   ]
  },
  {
   "cell_type": "code",
   "execution_count": 87,
   "metadata": {},
   "outputs": [],
   "source": [
    "df_patient['치매환자유병률'] = 0\n",
    "\n",
    "df_patient.drop(['USMER', 'MEDICAL_UNIT', 'PATIENT_TYPE', 'DATE_DIED', 'INTUBED',\n",
    "       'PNEUMONIA', 'PREGNANT', 'DIABETES', 'COPD', 'ASTHMA', 'INMSUPR',\n",
    "       'HIPERTENSION', 'OTHER_DISEASE', 'CARDIOVASCULAR', 'OBESITY',\n",
    "       'RENAL_CHRONIC', 'TOBACCO', 'CLASIFFICATION_FINAL', 'ICU'], axis=1, inplace=True)"
   ]
  },
  {
   "cell_type": "code",
   "execution_count": 90,
   "metadata": {},
   "outputs": [],
   "source": [
    "for n in range(df_patient.shape[0]):\n",
    "    i = df_patient.loc[n, 'AGE']\n",
    "    if(60<=i<65):\n",
    "        # 60~64세 여성/남성\n",
    "        if(df_patient.loc[n, 'SEX'] == 1):\n",
    "            df_patient.loc[n, '치매환자유병률'] = df_ml.loc[0, '치매환자유병률']\n",
    "        if(df_patient.loc[n, 'SEX'] == 2):\n",
    "            df_patient.loc[n, '치매환자유병률'] = df_ml.loc[1, '치매환자유병률']\n",
    "    elif(65<=i<70):\n",
    "        # 65~69세 여성/남성\n",
    "        if(df_patient.loc[n, 'SEX'] == 1):\n",
    "            df_patient.loc[n, '치매환자유병률'] = df_ml.loc[0, '치매환자유병률']\n",
    "        if(df_patient.loc[n, 'SEX'] == 2):\n",
    "            df_patient.loc[n, '치매환자유병률'] = df_ml.loc[1, '치매환자유병률']\n",
    "    elif(70<=i<75):\n",
    "        # 70~74세 여성/남성\n",
    "        if(df_patient.loc[n, 'SEX'] == 1):\n",
    "            df_patient.loc[n, '치매환자유병률'] = df_ml.loc[0, '치매환자유병률']\n",
    "        if(df_patient.loc[n, 'SEX'] == 2):\n",
    "            df_patient.loc[n, '치매환자유병률'] = df_ml.loc[1, '치매환자유병률']\n",
    "    elif(75<=i<80):\n",
    "        # 75~79세 여성/남성\n",
    "        if(df_patient.loc[n, 'SEX'] == 1):\n",
    "            df_patient.loc[n, '치매환자유병률'] = df_ml.loc[0, '치매환자유병률']\n",
    "        if(df_patient.loc[n, 'SEX'] == 2):\n",
    "            df_patient.loc[n, '치매환자유병률'] = df_ml.loc[1, '치매환자유병률']\n",
    "    elif(85<=i):\n",
    "        if(df_patient.loc[n, 'SEX'] == 1):\n",
    "            df_patient.loc[n, '치매환자유병률'] = df_ml.loc[0, '치매환자유병률']\n",
    "        if(df_patient.loc[n, 'SEX'] == 2):\n",
    "            df_patient.loc[n, '치매환자유병률'] = df_ml.loc[1, '치매환자유병률']\n",
    "    else:\n",
    "        df_patient.loc[n, '치매환자유병률'] = np.nan"
   ]
  },
  {
   "cell_type": "code",
   "execution_count": 91,
   "metadata": {},
   "outputs": [
    {
     "name": "stdout",
     "output_type": "stream",
     "text": [
      "   SEX  AGE  치매환자유병률\n",
      "0    1   65     1.13\n",
      "1    2   72     0.11\n",
      "2    2   55      NaN\n",
      "3    1   53      NaN\n",
      "4    2   68     0.11\n"
     ]
    }
   ],
   "source": [
    "print(df_patient.head())"
   ]
  },
  {
   "cell_type": "code",
   "execution_count": 113,
   "metadata": {},
   "outputs": [],
   "source": [
    "df_patient.dropna(axis=0, inplace=True)"
   ]
  },
  {
   "cell_type": "code",
   "execution_count": 102,
   "metadata": {},
   "outputs": [],
   "source": [
    "scaler=StandardScaler()"
   ]
  },
  {
   "cell_type": "code",
   "execution_count": 103,
   "metadata": {},
   "outputs": [
    {
     "data": {
      "text/plain": [
       "Index(['SEX', 'AGE', '치매환자유병률'], dtype='object')"
      ]
     },
     "execution_count": 103,
     "metadata": {},
     "output_type": "execute_result"
    }
   ],
   "source": [
    "df_patient.columns"
   ]
  },
  {
   "cell_type": "code",
   "execution_count": 114,
   "metadata": {},
   "outputs": [],
   "source": [
    "x = df_patient.drop(['치매환자유병률'], axis=1)\n",
    "x = scaler.fit_transform(x)"
   ]
  },
  {
   "cell_type": "code",
   "execution_count": 115,
   "metadata": {},
   "outputs": [],
   "source": [
    "y = df_patient['치매환자유병률']"
   ]
  },
  {
   "cell_type": "code",
   "execution_count": 121,
   "metadata": {},
   "outputs": [],
   "source": [
    "X_train, X_test, y_train, y_test = train_test_split(x, y, test_size=0.3)"
   ]
  },
  {
   "cell_type": "code",
   "execution_count": 122,
   "metadata": {},
   "outputs": [],
   "source": [
    "lm = LogisticRegression()"
   ]
  },
  {
   "cell_type": "code",
   "execution_count": 123,
   "metadata": {},
   "outputs": [
    {
     "ename": "ValueError",
     "evalue": "Unknown label type: 'continuous'",
     "output_type": "error",
     "traceback": [
      "\u001b[1;31m---------------------------------------------------------------------------\u001b[0m",
      "\u001b[1;31mValueError\u001b[0m                                Traceback (most recent call last)",
      "\u001b[1;32mg:\\내 드라이브\\오픈소스개발프로젝트\\기말프로젝트\\final_project.ipynb 셀 23\u001b[0m in \u001b[0;36m<cell line: 1>\u001b[1;34m()\u001b[0m\n\u001b[1;32m----> <a href='vscode-notebook-cell:/g%3A/%EB%82%B4%20%EB%93%9C%EB%9D%BC%EC%9D%B4%EB%B8%8C/%EC%98%A4%ED%94%88%EC%86%8C%EC%8A%A4%EA%B0%9C%EB%B0%9C%ED%94%84%EB%A1%9C%EC%A0%9D%ED%8A%B8/%EA%B8%B0%EB%A7%90%ED%94%84%EB%A1%9C%EC%A0%9D%ED%8A%B8/final_project.ipynb#Y106sZmlsZQ%3D%3D?line=0'>1</a>\u001b[0m lm\u001b[39m.\u001b[39;49mfit(X_train, y_train)\n",
      "File \u001b[1;32mc:\\Users\\jjyo0\\AppData\\Local\\Programs\\Python\\Python310\\lib\\site-packages\\sklearn\\linear_model\\_logistic.py:1204\u001b[0m, in \u001b[0;36mLogisticRegression.fit\u001b[1;34m(self, X, y, sample_weight)\u001b[0m\n\u001b[0;32m   1194\u001b[0m     _dtype \u001b[39m=\u001b[39m [np\u001b[39m.\u001b[39mfloat64, np\u001b[39m.\u001b[39mfloat32]\n\u001b[0;32m   1196\u001b[0m X, y \u001b[39m=\u001b[39m \u001b[39mself\u001b[39m\u001b[39m.\u001b[39m_validate_data(\n\u001b[0;32m   1197\u001b[0m     X,\n\u001b[0;32m   1198\u001b[0m     y,\n\u001b[1;32m   (...)\u001b[0m\n\u001b[0;32m   1202\u001b[0m     accept_large_sparse\u001b[39m=\u001b[39msolver \u001b[39mnot\u001b[39;00m \u001b[39min\u001b[39;00m [\u001b[39m\"\u001b[39m\u001b[39mliblinear\u001b[39m\u001b[39m\"\u001b[39m, \u001b[39m\"\u001b[39m\u001b[39msag\u001b[39m\u001b[39m\"\u001b[39m, \u001b[39m\"\u001b[39m\u001b[39msaga\u001b[39m\u001b[39m\"\u001b[39m],\n\u001b[0;32m   1203\u001b[0m )\n\u001b[1;32m-> 1204\u001b[0m check_classification_targets(y)\n\u001b[0;32m   1205\u001b[0m \u001b[39mself\u001b[39m\u001b[39m.\u001b[39mclasses_ \u001b[39m=\u001b[39m np\u001b[39m.\u001b[39munique(y)\n\u001b[0;32m   1207\u001b[0m multi_class \u001b[39m=\u001b[39m _check_multi_class(\u001b[39mself\u001b[39m\u001b[39m.\u001b[39mmulti_class, solver, \u001b[39mlen\u001b[39m(\u001b[39mself\u001b[39m\u001b[39m.\u001b[39mclasses_))\n",
      "File \u001b[1;32mc:\\Users\\jjyo0\\AppData\\Local\\Programs\\Python\\Python310\\lib\\site-packages\\sklearn\\utils\\multiclass.py:207\u001b[0m, in \u001b[0;36mcheck_classification_targets\u001b[1;34m(y)\u001b[0m\n\u001b[0;32m    199\u001b[0m y_type \u001b[39m=\u001b[39m type_of_target(y, input_name\u001b[39m=\u001b[39m\u001b[39m\"\u001b[39m\u001b[39my\u001b[39m\u001b[39m\"\u001b[39m)\n\u001b[0;32m    200\u001b[0m \u001b[39mif\u001b[39;00m y_type \u001b[39mnot\u001b[39;00m \u001b[39min\u001b[39;00m [\n\u001b[0;32m    201\u001b[0m     \u001b[39m\"\u001b[39m\u001b[39mbinary\u001b[39m\u001b[39m\"\u001b[39m,\n\u001b[0;32m    202\u001b[0m     \u001b[39m\"\u001b[39m\u001b[39mmulticlass\u001b[39m\u001b[39m\"\u001b[39m,\n\u001b[1;32m   (...)\u001b[0m\n\u001b[0;32m    205\u001b[0m     \u001b[39m\"\u001b[39m\u001b[39mmultilabel-sequences\u001b[39m\u001b[39m\"\u001b[39m,\n\u001b[0;32m    206\u001b[0m ]:\n\u001b[1;32m--> 207\u001b[0m     \u001b[39mraise\u001b[39;00m \u001b[39mValueError\u001b[39;00m(\u001b[39m\"\u001b[39m\u001b[39mUnknown label type: \u001b[39m\u001b[39m%r\u001b[39;00m\u001b[39m\"\u001b[39m \u001b[39m%\u001b[39m y_type)\n",
      "\u001b[1;31mValueError\u001b[0m: Unknown label type: 'continuous'"
     ]
    }
   ],
   "source": [
    "lm.fit(X_train, y_train)"
   ]
  },
  {
   "cell_type": "code",
   "execution_count": null,
   "metadata": {},
   "outputs": [],
   "source": [
    "y_predictions=lm.predict(X_test)"
   ]
  },
  {
   "cell_type": "code",
   "execution_count": null,
   "metadata": {},
   "outputs": [],
   "source": []
  }
 ],
 "metadata": {
  "kernelspec": {
   "display_name": "Python 3",
   "language": "python",
   "name": "python3"
  },
  "language_info": {
   "codemirror_mode": {
    "name": "ipython",
    "version": 3
   },
   "file_extension": ".py",
   "mimetype": "text/x-python",
   "name": "python",
   "nbconvert_exporter": "python",
   "pygments_lexer": "ipython3",
   "version": "3.10.4"
  },
  "orig_nbformat": 4,
  "vscode": {
   "interpreter": {
    "hash": "eb192b012b80181e2f5e07fcb14ade070bb12f5880149a515fc8447d24cf1148"
   }
  }
 },
 "nbformat": 4,
 "nbformat_minor": 2
}
